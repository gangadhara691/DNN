{
 "cells": [
  {
   "cell_type": "markdown",
   "metadata": {},
   "source": [
    "<h1 align=\"center\">TensorFlow Deep Neural Network Lab</h1>"
   ]
  },
  {
   "cell_type": "markdown",
   "metadata": {},
   "source": [
    "<img src=\"image/notmnist.png\">\n",
    "In this lab, you'll use all the tools you learned from the *Deep Neural Networks* lesson to label images of English letters! The data you are using, <a href=\"http://yaroslavvb.blogspot.com/2011/09/notmnist-dataset.html\">notMNIST</a>, consists of images of a letter from A to J in differents font.\n",
    "\n",
    "The above images are a few examples of the data you'll be training on. After training the network, you will compare your prediction model against test data. While there is no predefined goal for this lab, we would like you to experiment and discuss with fellow students on what can improve such models to achieve the highest possible accuracy values."
   ]
  },
  {
   "cell_type": "markdown",
   "metadata": {},
   "source": [
    "To start this lab, you first need to import all the necessary modules. Run the code below. If it runs successfully, it will print \"`All modules imported`\"."
   ]
  },
  {
   "cell_type": "code",
   "execution_count": 1,
   "metadata": {},
   "outputs": [
    {
     "name": "stdout",
     "output_type": "stream",
     "text": [
      "All modules imported.\n"
     ]
    }
   ],
   "source": [
    "import hashlib\n",
    "import os\n",
    "import pickle\n",
    "from urllib.request import urlretrieve\n",
    "\n",
    "import numpy as np\n",
    "from PIL import Image\n",
    "from sklearn.model_selection import train_test_split\n",
    "from sklearn.preprocessing import LabelBinarizer\n",
    "from sklearn.utils import resample\n",
    "from tqdm import tqdm\n",
    "from zipfile import ZipFile\n",
    "\n",
    "print('All modules imported.')"
   ]
  },
  {
   "cell_type": "markdown",
   "metadata": {},
   "source": [
    "The notMNIST dataset is too large for many computers to handle.  It contains 500,000 images for just training.  You'll be using a subset of this data, 15,000 images for each label (A-J)."
   ]
  },
  {
   "cell_type": "code",
   "execution_count": 2,
   "metadata": {},
   "outputs": [
    {
     "name": "stdout",
     "output_type": "stream",
     "text": [
      "Downloading notMNIST_train.zip...\n",
      "Download Finished\n",
      "Downloading notMNIST_test.zip...\n",
      "Download Finished\n",
      "All files downloaded.\n"
     ]
    }
   ],
   "source": [
    "def download(url, file):\n",
    "    \"\"\"\n",
    "    Download file from <url>\n",
    "    :param url: URL to file\n",
    "    :param file: Local file path\n",
    "    \"\"\"\n",
    "    if not os.path.isfile(file):\n",
    "        print('Downloading ' + file + '...')\n",
    "        urlretrieve(url, file)\n",
    "        print('Download Finished')\n",
    "\n",
    "# Download the training and test dataset.\n",
    "download('https://s3.amazonaws.com/udacity-sdc/notMNIST_train.zip', 'notMNIST_train.zip')\n",
    "download('https://s3.amazonaws.com/udacity-sdc/notMNIST_test.zip', 'notMNIST_test.zip')\n",
    "\n",
    "# Make sure the files aren't corrupted\n",
    "assert hashlib.md5(open('notMNIST_train.zip', 'rb').read()).hexdigest() == 'c8673b3f28f489e9cdf3a3d74e2ac8fa',\\\n",
    "        'notMNIST_train.zip file is corrupted.  Remove the file and try again.'\n",
    "assert hashlib.md5(open('notMNIST_test.zip', 'rb').read()).hexdigest() == '5d3c7e653e63471c88df796156a9dfa9',\\\n",
    "        'notMNIST_test.zip file is corrupted.  Remove the file and try again.'\n",
    "\n",
    "# Wait until you see that all files have been downloaded.\n",
    "print('All files downloaded.')"
   ]
  },
  {
   "cell_type": "code",
   "execution_count": 4,
   "metadata": {},
   "outputs": [
    {
     "name": "stderr",
     "output_type": "stream",
     "text": [
      " 12%|████████▎                                                             | 24989/210001 [00:06<00:47, 3914.24files/s]"
     ]
    },
    {
     "ename": "KeyboardInterrupt",
     "evalue": "",
     "output_type": "error",
     "traceback": [
      "\u001b[1;31m---------------------------------------------------------------------------\u001b[0m",
      "\u001b[1;31mUnsupportedOperation\u001b[0m                      Traceback (most recent call last)",
      "\u001b[1;32mD:\\Anaconda3\\envs\\RoboND\\lib\\site-packages\\PIL\\Image.py\u001b[0m in \u001b[0;36mopen\u001b[1;34m(fp, mode)\u001b[0m\n\u001b[0;32m   2413\u001b[0m     \u001b[1;32mtry\u001b[0m\u001b[1;33m:\u001b[0m\u001b[1;33m\u001b[0m\u001b[0m\n\u001b[1;32m-> 2414\u001b[1;33m         \u001b[0mfp\u001b[0m\u001b[1;33m.\u001b[0m\u001b[0mseek\u001b[0m\u001b[1;33m(\u001b[0m\u001b[1;36m0\u001b[0m\u001b[1;33m)\u001b[0m\u001b[1;33m\u001b[0m\u001b[0m\n\u001b[0m\u001b[0;32m   2415\u001b[0m     \u001b[1;32mexcept\u001b[0m \u001b[1;33m(\u001b[0m\u001b[0mAttributeError\u001b[0m\u001b[1;33m,\u001b[0m \u001b[0mio\u001b[0m\u001b[1;33m.\u001b[0m\u001b[0mUnsupportedOperation\u001b[0m\u001b[1;33m)\u001b[0m\u001b[1;33m:\u001b[0m\u001b[1;33m\u001b[0m\u001b[0m\n",
      "\u001b[1;31mUnsupportedOperation\u001b[0m: seek",
      "\nDuring handling of the above exception, another exception occurred:\n",
      "\u001b[1;31mKeyboardInterrupt\u001b[0m                         Traceback (most recent call last)",
      "\u001b[1;32m<ipython-input-4-a553527a270d>\u001b[0m in \u001b[0;36m<module>\u001b[1;34m()\u001b[0m\n\u001b[0;32m     30\u001b[0m \u001b[1;33m\u001b[0m\u001b[0m\n\u001b[0;32m     31\u001b[0m \u001b[1;31m# Get the features and labels from the zip files\u001b[0m\u001b[1;33m\u001b[0m\u001b[1;33m\u001b[0m\u001b[0m\n\u001b[1;32m---> 32\u001b[1;33m \u001b[0mtrain_features\u001b[0m\u001b[1;33m,\u001b[0m \u001b[0mtrain_labels\u001b[0m \u001b[1;33m=\u001b[0m \u001b[0muncompress_features_labels\u001b[0m\u001b[1;33m(\u001b[0m\u001b[1;34m'notMNIST_train.zip'\u001b[0m\u001b[1;33m)\u001b[0m\u001b[1;33m\u001b[0m\u001b[0m\n\u001b[0m\u001b[0;32m     33\u001b[0m \u001b[0mtest_features\u001b[0m\u001b[1;33m,\u001b[0m \u001b[0mtest_labels\u001b[0m \u001b[1;33m=\u001b[0m \u001b[0muncompress_features_labels\u001b[0m\u001b[1;33m(\u001b[0m\u001b[1;34m'notMNIST_test.zip'\u001b[0m\u001b[1;33m)\u001b[0m\u001b[1;33m\u001b[0m\u001b[0m\n\u001b[0;32m     34\u001b[0m \u001b[1;33m\u001b[0m\u001b[0m\n",
      "\u001b[1;32m<ipython-input-4-a553527a270d>\u001b[0m in \u001b[0;36muncompress_features_labels\u001b[1;34m(file)\u001b[0m\n\u001b[0;32m     16\u001b[0m             \u001b[1;32mif\u001b[0m \u001b[1;32mnot\u001b[0m \u001b[0mfilename\u001b[0m\u001b[1;33m.\u001b[0m\u001b[0mendswith\u001b[0m\u001b[1;33m(\u001b[0m\u001b[1;34m'/'\u001b[0m\u001b[1;33m)\u001b[0m\u001b[1;33m:\u001b[0m\u001b[1;33m\u001b[0m\u001b[0m\n\u001b[0;32m     17\u001b[0m                 \u001b[1;32mwith\u001b[0m \u001b[0mzipf\u001b[0m\u001b[1;33m.\u001b[0m\u001b[0mopen\u001b[0m\u001b[1;33m(\u001b[0m\u001b[0mfilename\u001b[0m\u001b[1;33m)\u001b[0m \u001b[1;32mas\u001b[0m \u001b[0mimage_file\u001b[0m\u001b[1;33m:\u001b[0m\u001b[1;33m\u001b[0m\u001b[0m\n\u001b[1;32m---> 18\u001b[1;33m                     \u001b[0mimage\u001b[0m \u001b[1;33m=\u001b[0m \u001b[0mImage\u001b[0m\u001b[1;33m.\u001b[0m\u001b[0mopen\u001b[0m\u001b[1;33m(\u001b[0m\u001b[0mimage_file\u001b[0m\u001b[1;33m)\u001b[0m\u001b[1;33m\u001b[0m\u001b[0m\n\u001b[0m\u001b[0;32m     19\u001b[0m                     \u001b[0mimage\u001b[0m\u001b[1;33m.\u001b[0m\u001b[0mload\u001b[0m\u001b[1;33m(\u001b[0m\u001b[1;33m)\u001b[0m\u001b[1;33m\u001b[0m\u001b[0m\n\u001b[0;32m     20\u001b[0m                     \u001b[1;31m# Load image data as 1 dimensional array\u001b[0m\u001b[1;33m\u001b[0m\u001b[1;33m\u001b[0m\u001b[0m\n",
      "\u001b[1;32mD:\\Anaconda3\\envs\\RoboND\\lib\\site-packages\\PIL\\Image.py\u001b[0m in \u001b[0;36mopen\u001b[1;34m(fp, mode)\u001b[0m\n\u001b[0;32m   2414\u001b[0m         \u001b[0mfp\u001b[0m\u001b[1;33m.\u001b[0m\u001b[0mseek\u001b[0m\u001b[1;33m(\u001b[0m\u001b[1;36m0\u001b[0m\u001b[1;33m)\u001b[0m\u001b[1;33m\u001b[0m\u001b[0m\n\u001b[0;32m   2415\u001b[0m     \u001b[1;32mexcept\u001b[0m \u001b[1;33m(\u001b[0m\u001b[0mAttributeError\u001b[0m\u001b[1;33m,\u001b[0m \u001b[0mio\u001b[0m\u001b[1;33m.\u001b[0m\u001b[0mUnsupportedOperation\u001b[0m\u001b[1;33m)\u001b[0m\u001b[1;33m:\u001b[0m\u001b[1;33m\u001b[0m\u001b[0m\n\u001b[1;32m-> 2416\u001b[1;33m         \u001b[0mfp\u001b[0m \u001b[1;33m=\u001b[0m \u001b[0mio\u001b[0m\u001b[1;33m.\u001b[0m\u001b[0mBytesIO\u001b[0m\u001b[1;33m(\u001b[0m\u001b[0mfp\u001b[0m\u001b[1;33m.\u001b[0m\u001b[0mread\u001b[0m\u001b[1;33m(\u001b[0m\u001b[1;33m)\u001b[0m\u001b[1;33m)\u001b[0m\u001b[1;33m\u001b[0m\u001b[0m\n\u001b[0m\u001b[0;32m   2417\u001b[0m         \u001b[0mexclusive_fp\u001b[0m \u001b[1;33m=\u001b[0m \u001b[1;32mTrue\u001b[0m\u001b[1;33m\u001b[0m\u001b[0m\n\u001b[0;32m   2418\u001b[0m \u001b[1;33m\u001b[0m\u001b[0m\n",
      "\u001b[1;32mD:\\Anaconda3\\envs\\RoboND\\lib\\zipfile.py\u001b[0m in \u001b[0;36mread\u001b[1;34m(self, n)\u001b[0m\n\u001b[0;32m    828\u001b[0m             \u001b[0mself\u001b[0m\u001b[1;33m.\u001b[0m\u001b[0m_offset\u001b[0m \u001b[1;33m=\u001b[0m \u001b[1;36m0\u001b[0m\u001b[1;33m\u001b[0m\u001b[0m\n\u001b[0;32m    829\u001b[0m             \u001b[1;32mwhile\u001b[0m \u001b[1;32mnot\u001b[0m \u001b[0mself\u001b[0m\u001b[1;33m.\u001b[0m\u001b[0m_eof\u001b[0m\u001b[1;33m:\u001b[0m\u001b[1;33m\u001b[0m\u001b[0m\n\u001b[1;32m--> 830\u001b[1;33m                 \u001b[0mbuf\u001b[0m \u001b[1;33m+=\u001b[0m \u001b[0mself\u001b[0m\u001b[1;33m.\u001b[0m\u001b[0m_read1\u001b[0m\u001b[1;33m(\u001b[0m\u001b[0mself\u001b[0m\u001b[1;33m.\u001b[0m\u001b[0mMAX_N\u001b[0m\u001b[1;33m)\u001b[0m\u001b[1;33m\u001b[0m\u001b[0m\n\u001b[0m\u001b[0;32m    831\u001b[0m             \u001b[1;32mreturn\u001b[0m \u001b[0mbuf\u001b[0m\u001b[1;33m\u001b[0m\u001b[0m\n\u001b[0;32m    832\u001b[0m \u001b[1;33m\u001b[0m\u001b[0m\n",
      "\u001b[1;32mD:\\Anaconda3\\envs\\RoboND\\lib\\zipfile.py\u001b[0m in \u001b[0;36m_read1\u001b[1;34m(self, n)\u001b[0m\n\u001b[0;32m    910\u001b[0m             \u001b[0mdata\u001b[0m \u001b[1;33m=\u001b[0m \u001b[0mself\u001b[0m\u001b[1;33m.\u001b[0m\u001b[0m_decompressor\u001b[0m\u001b[1;33m.\u001b[0m\u001b[0munconsumed_tail\u001b[0m\u001b[1;33m\u001b[0m\u001b[0m\n\u001b[0;32m    911\u001b[0m             \u001b[1;32mif\u001b[0m \u001b[0mn\u001b[0m \u001b[1;33m>\u001b[0m \u001b[0mlen\u001b[0m\u001b[1;33m(\u001b[0m\u001b[0mdata\u001b[0m\u001b[1;33m)\u001b[0m\u001b[1;33m:\u001b[0m\u001b[1;33m\u001b[0m\u001b[0m\n\u001b[1;32m--> 912\u001b[1;33m                 \u001b[0mdata\u001b[0m \u001b[1;33m+=\u001b[0m \u001b[0mself\u001b[0m\u001b[1;33m.\u001b[0m\u001b[0m_read2\u001b[0m\u001b[1;33m(\u001b[0m\u001b[0mn\u001b[0m \u001b[1;33m-\u001b[0m \u001b[0mlen\u001b[0m\u001b[1;33m(\u001b[0m\u001b[0mdata\u001b[0m\u001b[1;33m)\u001b[0m\u001b[1;33m)\u001b[0m\u001b[1;33m\u001b[0m\u001b[0m\n\u001b[0m\u001b[0;32m    913\u001b[0m         \u001b[1;32melse\u001b[0m\u001b[1;33m:\u001b[0m\u001b[1;33m\u001b[0m\u001b[0m\n\u001b[0;32m    914\u001b[0m             \u001b[0mdata\u001b[0m \u001b[1;33m=\u001b[0m \u001b[0mself\u001b[0m\u001b[1;33m.\u001b[0m\u001b[0m_read2\u001b[0m\u001b[1;33m(\u001b[0m\u001b[0mn\u001b[0m\u001b[1;33m)\u001b[0m\u001b[1;33m\u001b[0m\u001b[0m\n",
      "\u001b[1;32mD:\\Anaconda3\\envs\\RoboND\\lib\\zipfile.py\u001b[0m in \u001b[0;36m_read2\u001b[1;34m(self, n)\u001b[0m\n\u001b[0;32m    942\u001b[0m         \u001b[0mn\u001b[0m \u001b[1;33m=\u001b[0m \u001b[0mmin\u001b[0m\u001b[1;33m(\u001b[0m\u001b[0mn\u001b[0m\u001b[1;33m,\u001b[0m \u001b[0mself\u001b[0m\u001b[1;33m.\u001b[0m\u001b[0m_compress_left\u001b[0m\u001b[1;33m)\u001b[0m\u001b[1;33m\u001b[0m\u001b[0m\n\u001b[0;32m    943\u001b[0m \u001b[1;33m\u001b[0m\u001b[0m\n\u001b[1;32m--> 944\u001b[1;33m         \u001b[0mdata\u001b[0m \u001b[1;33m=\u001b[0m \u001b[0mself\u001b[0m\u001b[1;33m.\u001b[0m\u001b[0m_fileobj\u001b[0m\u001b[1;33m.\u001b[0m\u001b[0mread\u001b[0m\u001b[1;33m(\u001b[0m\u001b[0mn\u001b[0m\u001b[1;33m)\u001b[0m\u001b[1;33m\u001b[0m\u001b[0m\n\u001b[0m\u001b[0;32m    945\u001b[0m         \u001b[0mself\u001b[0m\u001b[1;33m.\u001b[0m\u001b[0m_compress_left\u001b[0m \u001b[1;33m-=\u001b[0m \u001b[0mlen\u001b[0m\u001b[1;33m(\u001b[0m\u001b[0mdata\u001b[0m\u001b[1;33m)\u001b[0m\u001b[1;33m\u001b[0m\u001b[0m\n\u001b[0;32m    946\u001b[0m         \u001b[1;32mif\u001b[0m \u001b[1;32mnot\u001b[0m \u001b[0mdata\u001b[0m\u001b[1;33m:\u001b[0m\u001b[1;33m\u001b[0m\u001b[0m\n",
      "\u001b[1;32mD:\\Anaconda3\\envs\\RoboND\\lib\\zipfile.py\u001b[0m in \u001b[0;36mread\u001b[1;34m(self, n)\u001b[0m\n\u001b[0;32m    662\u001b[0m             \u001b[0mself\u001b[0m\u001b[1;33m.\u001b[0m\u001b[0m_file\u001b[0m\u001b[1;33m.\u001b[0m\u001b[0mseek\u001b[0m\u001b[1;33m(\u001b[0m\u001b[0mself\u001b[0m\u001b[1;33m.\u001b[0m\u001b[0m_pos\u001b[0m\u001b[1;33m)\u001b[0m\u001b[1;33m\u001b[0m\u001b[0m\n\u001b[0;32m    663\u001b[0m             \u001b[0mdata\u001b[0m \u001b[1;33m=\u001b[0m \u001b[0mself\u001b[0m\u001b[1;33m.\u001b[0m\u001b[0m_file\u001b[0m\u001b[1;33m.\u001b[0m\u001b[0mread\u001b[0m\u001b[1;33m(\u001b[0m\u001b[0mn\u001b[0m\u001b[1;33m)\u001b[0m\u001b[1;33m\u001b[0m\u001b[0m\n\u001b[1;32m--> 664\u001b[1;33m             \u001b[0mself\u001b[0m\u001b[1;33m.\u001b[0m\u001b[0m_pos\u001b[0m \u001b[1;33m=\u001b[0m \u001b[0mself\u001b[0m\u001b[1;33m.\u001b[0m\u001b[0m_file\u001b[0m\u001b[1;33m.\u001b[0m\u001b[0mtell\u001b[0m\u001b[1;33m(\u001b[0m\u001b[1;33m)\u001b[0m\u001b[1;33m\u001b[0m\u001b[0m\n\u001b[0m\u001b[0;32m    665\u001b[0m             \u001b[1;32mreturn\u001b[0m \u001b[0mdata\u001b[0m\u001b[1;33m\u001b[0m\u001b[0m\n\u001b[0;32m    666\u001b[0m \u001b[1;33m\u001b[0m\u001b[0m\n",
      "\u001b[1;31mKeyboardInterrupt\u001b[0m: "
     ]
    },
    {
     "name": "stderr",
     "output_type": "stream",
     "text": [
      " 12%|████████▎                                                             | 24989/210001 [00:20<02:28, 1248.12files/s]"
     ]
    }
   ],
   "source": [
    "def uncompress_features_labels(file):\n",
    "    \"\"\"\n",
    "    Uncompress features and labels from a zip file\n",
    "    :param file: The zip file to extract the data from\n",
    "    \"\"\"\n",
    "    features = []\n",
    "    labels = []\n",
    "\n",
    "    with ZipFile(file) as zipf:\n",
    "        # Progress Bar\n",
    "        filenames_pbar = tqdm(zipf.namelist(), unit='files')\n",
    "        \n",
    "        # Get features and labels from all files\n",
    "        for filename in filenames_pbar:\n",
    "            # Check if the file is a directory\n",
    "            if not filename.endswith('/'):\n",
    "                with zipf.open(filename) as image_file:\n",
    "                    image = Image.open(image_file)\n",
    "                    image.load()\n",
    "                    # Load image data as 1 dimensional array\n",
    "                    # We're using float32 to save on memory space\n",
    "                    feature = np.array(image, dtype=np.float32).flatten()\n",
    "\n",
    "                # Get the the letter from the filename.  This is the letter of the image.\n",
    "                label = os.path.split(filename)[1][0]\n",
    "\n",
    "                features.append(feature)\n",
    "                labels.append(label)\n",
    "    return np.array(features), np.array(labels)\n",
    "\n",
    "# Get the features and labels from the zip files\n",
    "train_features, train_labels = uncompress_features_labels('notMNIST_train.zip')\n",
    "test_features, test_labels = uncompress_features_labels('notMNIST_test.zip')\n",
    "\n",
    "# Limit the amount of data to work with\n",
    "size_limit = 150000\n",
    "train_features, train_labels = resample(train_features, train_labels, n_samples=size_limit)\n",
    "\n",
    "# Set flags for feature engineering.  This will prevent you from skipping an important step.\n",
    "is_features_normal = False\n",
    "is_labels_encod = False\n",
    "\n",
    "# Wait until you see that all features and labels have been uncompressed.\n",
    "print('All features and labels uncompressed.')"
   ]
  },
  {
   "cell_type": "markdown",
   "metadata": {},
   "source": [
    "<img src=\"image/mean_variance.png\" style=\"height: 75%;width: 75%; position: relative; right: 5%\">\n",
    "## Problem 1\n",
    "The first problem involves normalizing the features for your training and test data.\n",
    "\n",
    "Implement Min-Max scaling in the `normalize()` function to a range of `a=0.1` and `b=0.9`. After scaling, the values of the pixels in the input data should range from 0.1 to 0.9.\n",
    "\n",
    "Since the raw notMNIST image data is in [grayscale](https://en.wikipedia.org/wiki/Grayscale), the current values range from a min of 0 to a max of 255.\n",
    "\n",
    "Min-Max Scaling:\n",
    "$\n",
    "X'=a+{\\frac {\\left(X-X_{\\min }\\right)\\left(b-a\\right)}{X_{\\max }-X_{\\min }}}\n",
    "$"
   ]
  },
  {
   "cell_type": "code",
   "execution_count": 7,
   "metadata": {},
   "outputs": [
    {
     "name": "stdout",
     "output_type": "stream",
     "text": [
      "Tests Passed!\n"
     ]
    }
   ],
   "source": [
    "# Problem 1 - Implement Min-Max scaling for grayscale image data\n",
    "def normalize_grayscale(image_data):\n",
    "    \"\"\"\n",
    "    Normalize the image data with Min-Max scaling to a range of [0.1, 0.9]\n",
    "    :param image_data: The image data to be normalized\n",
    "    :return: Normalized image data\n",
    "    \"\"\"\n",
    "    # TODO: Implement Min-Max scaling for grayscale image data\n",
    "    \n",
    "    return 0.1+(image_data-np.min(image_data))*(0.8)/(np.max(image_data)-np.min(image_data))\n",
    "\n",
    "\n",
    "### DON'T MODIFY ANYTHING BELOW ###\n",
    "# Test Cases\n",
    "np.testing.assert_array_almost_equal(\n",
    "    normalize_grayscale(np.array([0, 1, 2, 3, 4, 5, 6, 7, 8, 9, 10, 255])),\n",
    "    [0.1, 0.103137254902, 0.106274509804, 0.109411764706, 0.112549019608, 0.11568627451, 0.118823529412, 0.121960784314,\n",
    "     0.125098039216, 0.128235294118, 0.13137254902, 0.9],\n",
    "    decimal=3)\n",
    "np.testing.assert_array_almost_equal(\n",
    "    normalize_grayscale(np.array([0, 1, 10, 20, 30, 40, 233, 244, 254,255])),\n",
    "    [0.1, 0.103137254902, 0.13137254902, 0.162745098039, 0.194117647059, 0.225490196078, 0.830980392157, 0.865490196078,\n",
    "     0.896862745098, 0.9])\n",
    "\n",
    "if not is_features_normal:\n",
    "    train_features = normalize_grayscale(train_features)\n",
    "    test_features = normalize_grayscale(test_features)\n",
    "    is_features_normal = True\n",
    "\n",
    "print('Tests Passed!')"
   ]
  },
  {
   "cell_type": "code",
   "execution_count": 8,
   "metadata": {},
   "outputs": [
    {
     "name": "stdout",
     "output_type": "stream",
     "text": [
      "Labels One-Hot Encoded\n"
     ]
    }
   ],
   "source": [
    "if not is_labels_encod:\n",
    "    # Turn labels into numbers and apply One-Hot Encoding\n",
    "    encoder = LabelBinarizer()\n",
    "    encoder.fit(train_labels)\n",
    "    train_labels = encoder.transform(train_labels)\n",
    "    test_labels = encoder.transform(test_labels)\n",
    "\n",
    "    # Change to float32, so it can be multiplied against the features in TensorFlow, which are float32\n",
    "    train_labels = train_labels.astype(np.float32)\n",
    "    test_labels = test_labels.astype(np.float32)\n",
    "    is_labels_encod = True\n",
    "\n",
    "print('Labels One-Hot Encoded')"
   ]
  },
  {
   "cell_type": "code",
   "execution_count": 9,
   "metadata": {},
   "outputs": [
    {
     "name": "stdout",
     "output_type": "stream",
     "text": [
      "Training features and labels randomized and split.\n"
     ]
    }
   ],
   "source": [
    "assert is_features_normal, 'You skipped the step to normalize the features'\n",
    "assert is_labels_encod, 'You skipped the step to One-Hot Encode the labels'\n",
    "\n",
    "# Get randomized datasets for training and validation\n",
    "train_features, valid_features, train_labels, valid_labels = train_test_split(\n",
    "    train_features,\n",
    "    train_labels,\n",
    "    test_size=0.05,\n",
    "    random_state=832289)\n",
    "\n",
    "print('Training features and labels randomized and split.')"
   ]
  },
  {
   "cell_type": "code",
   "execution_count": 10,
   "metadata": {},
   "outputs": [
    {
     "name": "stdout",
     "output_type": "stream",
     "text": [
      "Saving data to pickle file...\n",
      "Data cached in pickle file.\n"
     ]
    }
   ],
   "source": [
    "# Save the data for easy access\n",
    "pickle_file = 'notMNIST.pickle'\n",
    "if not os.path.isfile(pickle_file):\n",
    "    print('Saving data to pickle file...')\n",
    "    try:\n",
    "        with open('notMNIST.pickle', 'wb') as pfile:\n",
    "            pickle.dump(\n",
    "                {\n",
    "                    'train_dataset': train_features,\n",
    "                    'train_labels': train_labels,\n",
    "                    'valid_dataset': valid_features,\n",
    "                    'valid_labels': valid_labels,\n",
    "                    'test_dataset': test_features,\n",
    "                    'test_labels': test_labels,\n",
    "                },\n",
    "                pfile, pickle.HIGHEST_PROTOCOL)\n",
    "    except Exception as e:\n",
    "        print('Unable to save data to', pickle_file, ':', e)\n",
    "        raise\n",
    "\n",
    "print('Data cached in pickle file.')"
   ]
  },
  {
   "cell_type": "markdown",
   "metadata": {},
   "source": [
    "# Checkpoint\n",
    "All your progress is now saved to the pickle file.  If you need to leave and comeback to this lab, you no longer have to start from the beginning.  Just run the code block below and it will load all the data and modules required to proceed."
   ]
  },
  {
   "cell_type": "code",
   "execution_count": 12,
   "metadata": {},
   "outputs": [
    {
     "name": "stdout",
     "output_type": "stream",
     "text": [
      "Data and modules loaded.\n"
     ]
    }
   ],
   "source": [
    "%matplotlib inline\n",
    "\n",
    "# Load the modules\n",
    "import pickle\n",
    "import math\n",
    "\n",
    "import numpy as np\n",
    "import tensorflow as tf\n",
    "from tqdm import tqdm\n",
    "import matplotlib.pyplot as plt\n",
    "\n",
    "# Reload the data\n",
    "pickle_file = 'notMNIST.pickle'\n",
    "with open(pickle_file, 'rb') as f:\n",
    "  pickle_data = pickle.load(f)\n",
    "  train_features = pickle_data['train_dataset']\n",
    "  train_labels = pickle_data['train_labels']\n",
    "  valid_features = pickle_data['valid_dataset']\n",
    "  valid_labels = pickle_data['valid_labels']\n",
    "  test_features = pickle_data['test_dataset']\n",
    "  test_labels = pickle_data['test_labels']\n",
    "  del pickle_data  # Free up memory\n",
    "\n",
    "\n",
    "print('Data and modules loaded.')"
   ]
  },
  {
   "cell_type": "markdown",
   "metadata": {},
   "source": [
    "<img src=\"image/weight_biases.png\" style=\"height: 60%;width: 60%; position: relative; right: 10%\">\n",
    "## Problem 2\n",
    "For the neural network to train on your data, you need the following <a href=\"https://www.tensorflow.org/resources/dims_types.html#data-types\">float32</a> tensors:\n",
    " - `features`\n",
    "  - Placeholder tensor for feature data (`train_features`/`valid_features`/`test_features`)\n",
    " - `labels`\n",
    "  - Placeholder tensor for label data (`train_labels`/`valid_labels`/`test_labels`)\n",
    " - `keep_prob`\n",
    "  - Placeholder tensor for dropout's keep probability value\n",
    " - `weights`\n",
    "  - List of Variable Tensors with random numbers from a truncated normal distribution for each list index.\n",
    "    - See <a href=\"https://www.tensorflow.org/api_docs/python/constant_op.html#truncated_normal\">`tf.truncated_normal()` documentation</a> for help.\n",
    " - `biases`\n",
    "  - List of Variable Tensors with all zeros for each list index.\n",
    "    - See <a href=\"https://www.tensorflow.org/api_docs/python/constant_op.html#zeros\"> `tf.zeros()` documentation</a> for help."
   ]
  },
  {
   "cell_type": "code",
   "execution_count": 22,
   "metadata": {},
   "outputs": [],
   "source": [
    "features_count = 784\n",
    "labels_count = 10\n",
    "\n",
    "# TODO: Set the hidden layer width. You can try different widths for different layers and experiment.\n",
    "hidden_layer_width =20\n",
    "\n",
    "# TODO: Set the features, labels, and keep_prob tensors\n",
    "features =tf.placeholder(tf.float32,[None,features_count])\n",
    "labels = tf.placeholder(tf.float32,[None,labels_count])\n",
    "keep_prob = tf.placeholder(tf.float32)\n",
    "\n",
    "\n",
    "# TODO: Set the list of weights and biases tensors based on number of layers\n",
    "weights = [tf.Variable(tf.truncated_normal([features_count,hidden_layer_width])),tf.Variable(tf.truncated_normal([hidden_layer_width,labels_count]))]\n",
    "\n",
    "biases =  [tf.Variable(tf.truncated_normal([hidden_layer_width])),tf.Variable(tf.zeros([labels_count]))]\n",
    "\n",
    "\n",
    "\n",
    "### DON'T MODIFY ANYTHING BELOW ###\n",
    "from tensorflow.python.ops.variables import Variable\n",
    "\n",
    "assert features._op.name.startswith('Placeholder'), 'features must be a placeholder'\n",
    "assert labels._op.name.startswith('Placeholder'), 'labels must be a placeholder'\n",
    "assert all(isinstance(weight, Variable) for weight in weights), 'weights must be a TensorFlow variable'\n",
    "assert all(isinstance(bias, Variable) for bias in biases), 'biases must be a TensorFlow variable'\n",
    "\n",
    "assert features._shape == None or (\\\n",
    "    features._shape.dims[0].value is None and\\\n",
    "    features._shape.dims[1].value in [None, 784]), 'The shape of features is incorrect'\n",
    "assert labels._shape  == None or (\\\n",
    "    labels._shape.dims[0].value is None and\\\n",
    "    labels._shape.dims[1].value in [None, 10]), 'The shape of labels is incorrect'\n",
    "\n",
    "assert features._dtype == tf.float32, 'features must be type float32'\n",
    "assert labels._dtype == tf.float32, 'labels must be type float32'"
   ]
  },
  {
   "cell_type": "markdown",
   "metadata": {},
   "source": [
    "\n",
    "## Problem 3\n",
    "This problem would help you implement the hidden and output layers of your model. As it was covered in the classroom, you will need the following:\n",
    "\n",
    "- [tf.add](https://www.tensorflow.org/api_docs/python/tf/add) and [tf.matmul](https://www.tensorflow.org/api_docs/python/tf/matmul) to create your hidden and output(logits) layers.\n",
    "- [tf.nn.relu](https://www.tensorflow.org/api_docs/python/tf/nn/relu) for your ReLU activation function.\n",
    "- [tf.nn.dropout](https://www.tensorflow.org/api_docs/python/tf/nn/dropout) for your dropout layer."
   ]
  },
  {
   "cell_type": "code",
   "execution_count": 23,
   "metadata": {},
   "outputs": [],
   "source": [
    "# TODO: Hidden Layers with ReLU Activation and dropouts. \"features\" would be the input to the first layer.\n",
    "hidden_layer_1 = tf.nn.dropout(tf.nn.relu(tf.add(tf.matmul(features,weights[0]),biases[0])),keep_prob)\n",
    "\n",
    "# TODO: Output layer\n",
    "logits = tf.add(tf.matmul(hidden_layer_1,weights[1]),biases[1])"
   ]
  },
  {
   "cell_type": "code",
   "execution_count": 24,
   "metadata": {},
   "outputs": [
    {
     "name": "stdout",
     "output_type": "stream",
     "text": [
      "Accuracy function created.\n"
     ]
    }
   ],
   "source": [
    "### DON'T MODIFY ANYTHING BELOW ###\n",
    "\n",
    "prediction = tf.nn.softmax(logits)\n",
    "\n",
    "# Training loss\n",
    "loss = tf.reduce_mean(tf.nn.softmax_cross_entropy_with_logits(logits=logits, labels=labels))\n",
    "\n",
    "# Create an operation that initializes all variables\n",
    "init = tf.global_variables_initializer()\n",
    "\n",
    "# Determine if the predictions are correct\n",
    "is_correct_prediction = tf.equal(tf.argmax(prediction, 1), tf.argmax(labels, 1))\n",
    "# Calculate the accuracy of the predictions\n",
    "accuracy = tf.reduce_mean(tf.cast(is_correct_prediction, tf.float32))\n",
    "\n",
    "print('Accuracy function created.')"
   ]
  },
  {
   "cell_type": "markdown",
   "metadata": {},
   "source": [
    "<img src=\"image/learn_rate_tune.png\" style=\"height: 60%;width: 60%\">\n",
    "## Problem 4\n",
    "In the previous lab for a single Neural Network, you attempted several different configurations for the hyperparameters given below. Try to first use the same parameters as the previous lab, and then adjust and finetune those values based on your new model if required. \n",
    "\n",
    "You have another hyperparameter to tune now, however. Set the value for keep_probability and observe how it affects your results."
   ]
  },
  {
   "cell_type": "code",
   "execution_count": 32,
   "metadata": {},
   "outputs": [
    {
     "name": "stderr",
     "output_type": "stream",
     "text": [
      "Epoch  1/50: 100%|████████████████████████████████████████████████████████████| 1425/1425 [00:17<00:00, 81.46batches/s]\n",
      "Epoch  2/50: 100%|████████████████████████████████████████████████████████████| 1425/1425 [00:15<00:00, 93.13batches/s]\n",
      "Epoch  3/50: 100%|████████████████████████████████████████████████████████████| 1425/1425 [00:15<00:00, 89.32batches/s]\n",
      "Epoch  4/50: 100%|████████████████████████████████████████████████████████████| 1425/1425 [00:16<00:00, 84.02batches/s]\n",
      "Epoch  5/50: 100%|████████████████████████████████████████████████████████████| 1425/1425 [00:18<00:00, 76.15batches/s]\n",
      "Epoch  6/50: 100%|████████████████████████████████████████████████████████████| 1425/1425 [00:18<00:00, 76.33batches/s]\n",
      "Epoch  7/50: 100%|████████████████████████████████████████████████████████████| 1425/1425 [00:19<00:00, 73.43batches/s]\n",
      "Epoch  8/50: 100%|████████████████████████████████████████████████████████████| 1425/1425 [00:19<00:00, 74.76batches/s]\n",
      "Epoch  9/50: 100%|████████████████████████████████████████████████████████████| 1425/1425 [00:19<00:00, 72.39batches/s]\n",
      "Epoch 10/50: 100%|████████████████████████████████████████████████████████████| 1425/1425 [00:20<00:00, 70.80batches/s]\n",
      "Epoch 11/50: 100%|████████████████████████████████████████████████████████████| 1425/1425 [00:21<00:00, 66.48batches/s]\n",
      "Epoch 12/50: 100%|████████████████████████████████████████████████████████████| 1425/1425 [00:19<00:00, 71.70batches/s]\n",
      "Epoch 13/50: 100%|████████████████████████████████████████████████████████████| 1425/1425 [00:15<00:00, 91.30batches/s]\n",
      "Epoch 14/50: 100%|████████████████████████████████████████████████████████████| 1425/1425 [00:15<00:00, 90.87batches/s]\n",
      "Epoch 15/50: 100%|████████████████████████████████████████████████████████████| 1425/1425 [00:14<00:00, 97.70batches/s]\n",
      "Epoch 16/50: 100%|████████████████████████████████████████████████████████████| 1425/1425 [00:14<00:00, 98.07batches/s]\n",
      "Epoch 17/50: 100%|████████████████████████████████████████████████████████████| 1425/1425 [00:14<00:00, 95.66batches/s]\n",
      "Epoch 18/50: 100%|████████████████████████████████████████████████████████████| 1425/1425 [00:14<00:00, 98.21batches/s]\n",
      "Epoch 19/50: 100%|████████████████████████████████████████████████████████████| 1425/1425 [00:14<00:00, 99.14batches/s]\n",
      "Epoch 20/50: 100%|████████████████████████████████████████████████████████████| 1425/1425 [00:14<00:00, 98.18batches/s]\n",
      "Epoch 21/50: 100%|████████████████████████████████████████████████████████████| 1425/1425 [00:14<00:00, 96.03batches/s]\n",
      "Epoch 22/50: 100%|████████████████████████████████████████████████████████████| 1425/1425 [00:15<00:00, 94.58batches/s]\n",
      "Epoch 23/50: 100%|████████████████████████████████████████████████████████████| 1425/1425 [00:14<00:00, 97.90batches/s]\n",
      "Epoch 24/50: 100%|████████████████████████████████████████████████████████████| 1425/1425 [00:14<00:00, 97.48batches/s]\n",
      "Epoch 25/50: 100%|████████████████████████████████████████████████████████████| 1425/1425 [00:14<00:00, 96.49batches/s]\n",
      "Epoch 26/50: 100%|████████████████████████████████████████████████████████████| 1425/1425 [00:14<00:00, 98.13batches/s]\n",
      "Epoch 27/50: 100%|████████████████████████████████████████████████████████████| 1425/1425 [00:15<00:00, 92.17batches/s]\n",
      "Epoch 28/50: 100%|████████████████████████████████████████████████████████████| 1425/1425 [00:14<00:00, 97.11batches/s]\n",
      "Epoch 29/50: 100%|████████████████████████████████████████████████████████████| 1425/1425 [00:15<00:00, 93.40batches/s]\n",
      "Epoch 30/50: 100%|████████████████████████████████████████████████████████████| 1425/1425 [00:16<00:00, 87.12batches/s]\n",
      "Epoch 31/50: 100%|████████████████████████████████████████████████████████████| 1425/1425 [00:16<00:00, 88.53batches/s]\n",
      "Epoch 32/50: 100%|████████████████████████████████████████████████████████████| 1425/1425 [00:15<00:00, 90.00batches/s]\n",
      "Epoch 33/50: 100%|████████████████████████████████████████████████████████████| 1425/1425 [00:16<00:00, 87.69batches/s]\n",
      "Epoch 34/50: 100%|████████████████████████████████████████████████████████████| 1425/1425 [00:14<00:00, 97.66batches/s]\n",
      "Epoch 35/50: 100%|████████████████████████████████████████████████████████████| 1425/1425 [00:14<00:00, 96.04batches/s]\n",
      "Epoch 36/50: 100%|████████████████████████████████████████████████████████████| 1425/1425 [00:15<00:00, 92.56batches/s]\n",
      "Epoch 37/50: 100%|████████████████████████████████████████████████████████████| 1425/1425 [00:18<00:00, 76.56batches/s]\n",
      "Epoch 38/50: 100%|████████████████████████████████████████████████████████████| 1425/1425 [00:14<00:00, 99.18batches/s]\n",
      "Epoch 39/50: 100%|████████████████████████████████████████████████████████████| 1425/1425 [00:14<00:00, 98.32batches/s]\n",
      "Epoch 40/50: 100%|████████████████████████████████████████████████████████████| 1425/1425 [00:14<00:00, 96.06batches/s]\n",
      "Epoch 41/50: 100%|████████████████████████████████████████████████████████████| 1425/1425 [00:14<00:00, 97.37batches/s]\n",
      "Epoch 42/50: 100%|████████████████████████████████████████████████████████████| 1425/1425 [00:14<00:00, 96.04batches/s]\n",
      "Epoch 43/50: 100%|████████████████████████████████████████████████████████████| 1425/1425 [00:14<00:00, 97.24batches/s]\n",
      "Epoch 44/50: 100%|████████████████████████████████████████████████████████████| 1425/1425 [00:14<00:00, 95.54batches/s]\n",
      "Epoch 45/50: 100%|████████████████████████████████████████████████████████████| 1425/1425 [00:14<00:00, 96.12batches/s]\n",
      "Epoch 46/50: 100%|████████████████████████████████████████████████████████████| 1425/1425 [00:14<00:00, 98.06batches/s]\n",
      "Epoch 47/50: 100%|████████████████████████████████████████████████████████████| 1425/1425 [00:15<00:00, 91.73batches/s]\n",
      "Epoch 48/50: 100%|████████████████████████████████████████████████████████████| 1425/1425 [00:17<00:00, 79.57batches/s]\n",
      "Epoch 49/50: 100%|████████████████████████████████████████████████████████████| 1425/1425 [00:17<00:00, 83.52batches/s]\n",
      "Epoch 50/50: 100%|████████████████████████████████████████████████████████████| 1425/1425 [00:15<00:00, 90.48batches/s]\n"
     ]
    },
    {
     "data": {
      "image/png": "[encoded data removed]",
      "text/plain": [
       "<matplotlib.figure.Figure at 0x275802f6f98>"
      ]
     },
     "metadata": {},
     "output_type": "display_data"
    },
    {
     "name": "stdout",
     "output_type": "stream",
     "text": [
      "Validation accuracy at 0.6796000003814697\n"
     ]
    }
   ],
   "source": [
    "# TODO: Find the best parameters for each configuration\n",
    "epochs = 50\n",
    "batch_size = 100\n",
    "learning_rate = 0.2\n",
    "keep_probability = 0.5\n",
    "\n",
    "\n",
    "\n",
    "### DON'T MODIFY ANYTHING BELOW ###\n",
    "# Gradient Descent\n",
    "optimizer = tf.train.GradientDescentOptimizer(learning_rate).minimize(loss)    \n",
    "\n",
    "# The accuracy measured against the validation set\n",
    "validation_accuracy = 0.0\n",
    "\n",
    "# Measurements use for graphing loss and accuracy\n",
    "log_batch_step = 50\n",
    "batches = []\n",
    "loss_batch = []\n",
    "train_acc_batch = []\n",
    "valid_acc_batch = []\n",
    "\n",
    "with tf.Session() as session:\n",
    "    session.run(init)\n",
    "    batch_count = int(math.ceil(len(train_features)/batch_size))\n",
    "\n",
    "    for epoch_i in range(epochs):\n",
    "        \n",
    "        # Progress bar\n",
    "        batches_pbar = tqdm(range(batch_count), desc='Epoch {:>2}/{}'.format(epoch_i+1, epochs), unit='batches')\n",
    "        \n",
    "        # The training cycle\n",
    "        for batch_i in batches_pbar:\n",
    "            # Get a batch of training features and labels\n",
    "            batch_start = batch_i*batch_size\n",
    "            batch_features = train_features[batch_start:batch_start + batch_size]\n",
    "            batch_labels = train_labels[batch_start:batch_start + batch_size]\n",
    "\n",
    "            # Run optimizer and get loss\n",
    "            _, l = session.run(\n",
    "                [optimizer, loss],\n",
    "                feed_dict={features: batch_features, labels: batch_labels, keep_prob: keep_probability})\n",
    "\n",
    "            # Log every 50 batches\n",
    "            if not batch_i % log_batch_step:\n",
    "                # Calculate Training and Validation accuracy\n",
    "                training_accuracy = session.run(accuracy, feed_dict={features: train_features, \n",
    "                                                                     labels: train_labels, keep_prob: keep_probability})\n",
    "                validation_accuracy = session.run(accuracy, feed_dict={features: valid_features, \n",
    "                                                                     labels: valid_labels, keep_prob: 1.0})\n",
    "\n",
    "                # Log batches\n",
    "                previous_batch = batches[-1] if batches else 0\n",
    "                batches.append(log_batch_step + previous_batch)\n",
    "                loss_batch.append(l)\n",
    "                train_acc_batch.append(training_accuracy)\n",
    "                valid_acc_batch.append(validation_accuracy)\n",
    "\n",
    "        # Check accuracy against Validation data\n",
    "        validation_accuracy = session.run(accuracy, feed_dict={features: valid_features, \n",
    "                                                                     labels: valid_labels, keep_prob: 1.0})\n",
    "\n",
    "loss_plot = plt.subplot(211)\n",
    "loss_plot.set_title('Loss')\n",
    "loss_plot.plot(batches, loss_batch, 'g')\n",
    "loss_plot.set_xlim([batches[0], batches[-1]])\n",
    "acc_plot = plt.subplot(212)\n",
    "acc_plot.set_title('Accuracy')\n",
    "acc_plot.plot(batches, train_acc_batch, 'r', label='Training Accuracy')\n",
    "acc_plot.plot(batches, valid_acc_batch, 'x', label='Validation Accuracy')\n",
    "acc_plot.set_ylim([0, 1.0])\n",
    "acc_plot.set_xlim([batches[0], batches[-1]])\n",
    "acc_plot.legend(loc=4)\n",
    "plt.tight_layout()\n",
    "plt.show()\n",
    "\n",
    "print('Validation accuracy at {}'.format(validation_accuracy))"
   ]
  },
  {
   "cell_type": "markdown",
   "metadata": {},
   "source": [
    "## Test\n",
    "Set the epochs, batch_size, and learning_rate with the best learning parameters you discovered in problem 4.  You're going to test your model against your hold out dataset/testing data.  This will give you a good indicator of how well the model will do in the real world."
   ]
  },
  {
   "cell_type": "code",
   "execution_count": 33,
   "metadata": {},
   "outputs": [
    {
     "name": "stderr",
     "output_type": "stream",
     "text": [
      "Epoch  1/50: 100%|███████████████████████████████████████████████████████████| 1425/1425 [00:02<00:00, 552.01batches/s]\n",
      "Epoch  2/50: 100%|███████████████████████████████████████████████████████████| 1425/1425 [00:02<00:00, 586.42batches/s]\n",
      "Epoch  3/50: 100%|███████████████████████████████████████████████████████████| 1425/1425 [00:02<00:00, 532.31batches/s]\n",
      "Epoch  4/50: 100%|███████████████████████████████████████████████████████████| 1425/1425 [00:02<00:00, 604.07batches/s]\n",
      "Epoch  5/50: 100%|███████████████████████████████████████████████████████████| 1425/1425 [00:02<00:00, 646.42batches/s]\n",
      "Epoch  6/50: 100%|███████████████████████████████████████████████████████████| 1425/1425 [00:02<00:00, 646.03batches/s]\n",
      "Epoch  7/50: 100%|███████████████████████████████████████████████████████████| 1425/1425 [00:02<00:00, 634.11batches/s]\n",
      "Epoch  8/50: 100%|███████████████████████████████████████████████████████████| 1425/1425 [00:02<00:00, 642.44batches/s]\n",
      "Epoch  9/50: 100%|███████████████████████████████████████████████████████████| 1425/1425 [00:02<00:00, 644.37batches/s]\n",
      "Epoch 10/50: 100%|███████████████████████████████████████████████████████████| 1425/1425 [00:02<00:00, 644.66batches/s]\n",
      "Epoch 11/50: 100%|███████████████████████████████████████████████████████████| 1425/1425 [00:02<00:00, 645.75batches/s]\n",
      "Epoch 12/50: 100%|███████████████████████████████████████████████████████████| 1425/1425 [00:02<00:00, 642.05batches/s]\n",
      "Epoch 13/50: 100%|███████████████████████████████████████████████████████████| 1425/1425 [00:02<00:00, 648.91batches/s]\n",
      "Epoch 14/50: 100%|███████████████████████████████████████████████████████████| 1425/1425 [00:02<00:00, 647.52batches/s]\n",
      "Epoch 15/50: 100%|███████████████████████████████████████████████████████████| 1425/1425 [00:02<00:00, 631.65batches/s]\n",
      "Epoch 16/50: 100%|███████████████████████████████████████████████████████████| 1425/1425 [00:02<00:00, 633.01batches/s]\n",
      "Epoch 17/50: 100%|███████████████████████████████████████████████████████████| 1425/1425 [00:02<00:00, 646.35batches/s]\n",
      "Epoch 18/50: 100%|███████████████████████████████████████████████████████████| 1425/1425 [00:02<00:00, 645.11batches/s]\n",
      "Epoch 19/50: 100%|███████████████████████████████████████████████████████████| 1425/1425 [00:02<00:00, 641.16batches/s]\n",
      "Epoch 20/50: 100%|███████████████████████████████████████████████████████████| 1425/1425 [00:02<00:00, 642.38batches/s]\n",
      "Epoch 21/50: 100%|███████████████████████████████████████████████████████████| 1425/1425 [00:02<00:00, 647.72batches/s]\n",
      "Epoch 22/50: 100%|███████████████████████████████████████████████████████████| 1425/1425 [00:02<00:00, 619.88batches/s]\n",
      "Epoch 23/50: 100%|███████████████████████████████████████████████████████████| 1425/1425 [00:02<00:00, 562.65batches/s]\n",
      "Epoch 24/50: 100%|███████████████████████████████████████████████████████████| 1425/1425 [00:02<00:00, 621.96batches/s]\n",
      "Epoch 25/50: 100%|███████████████████████████████████████████████████████████| 1425/1425 [00:02<00:00, 534.63batches/s]\n",
      "Epoch 26/50: 100%|███████████████████████████████████████████████████████████| 1425/1425 [00:02<00:00, 606.50batches/s]\n",
      "Epoch 27/50: 100%|███████████████████████████████████████████████████████████| 1425/1425 [00:02<00:00, 633.22batches/s]\n",
      "Epoch 28/50: 100%|███████████████████████████████████████████████████████████| 1425/1425 [00:02<00:00, 636.13batches/s]\n",
      "Epoch 29/50: 100%|███████████████████████████████████████████████████████████| 1425/1425 [00:02<00:00, 645.43batches/s]\n",
      "Epoch 30/50: 100%|███████████████████████████████████████████████████████████| 1425/1425 [00:02<00:00, 645.18batches/s]\n",
      "Epoch 31/50: 100%|███████████████████████████████████████████████████████████| 1425/1425 [00:02<00:00, 644.43batches/s]\n",
      "Epoch 32/50: 100%|███████████████████████████████████████████████████████████| 1425/1425 [00:02<00:00, 645.51batches/s]\n",
      "Epoch 33/50: 100%|███████████████████████████████████████████████████████████| 1425/1425 [00:02<00:00, 583.17batches/s]\n",
      "Epoch 34/50: 100%|███████████████████████████████████████████████████████████| 1425/1425 [00:02<00:00, 625.26batches/s]\n",
      "Epoch 35/50: 100%|███████████████████████████████████████████████████████████| 1425/1425 [00:02<00:00, 583.65batches/s]\n",
      "Epoch 36/50: 100%|███████████████████████████████████████████████████████████| 1425/1425 [00:02<00:00, 596.92batches/s]\n",
      "Epoch 37/50: 100%|███████████████████████████████████████████████████████████| 1425/1425 [00:02<00:00, 612.04batches/s]\n",
      "Epoch 38/50: 100%|███████████████████████████████████████████████████████████| 1425/1425 [00:02<00:00, 640.94batches/s]\n",
      "Epoch 39/50: 100%|███████████████████████████████████████████████████████████| 1425/1425 [00:02<00:00, 628.97batches/s]\n",
      "Epoch 40/50: 100%|███████████████████████████████████████████████████████████| 1425/1425 [00:02<00:00, 609.85batches/s]\n",
      "Epoch 41/50: 100%|███████████████████████████████████████████████████████████| 1425/1425 [00:02<00:00, 643.96batches/s]\n",
      "Epoch 42/50: 100%|███████████████████████████████████████████████████████████| 1425/1425 [00:02<00:00, 647.06batches/s]\n",
      "Epoch 43/50: 100%|███████████████████████████████████████████████████████████| 1425/1425 [00:02<00:00, 646.82batches/s]\n",
      "Epoch 44/50: 100%|███████████████████████████████████████████████████████████| 1425/1425 [00:02<00:00, 643.38batches/s]\n",
      "Epoch 45/50: 100%|███████████████████████████████████████████████████████████| 1425/1425 [00:02<00:00, 643.05batches/s]\n",
      "Epoch 46/50: 100%|███████████████████████████████████████████████████████████| 1425/1425 [00:02<00:00, 645.06batches/s]\n",
      "Epoch 47/50: 100%|███████████████████████████████████████████████████████████| 1425/1425 [00:02<00:00, 646.81batches/s]\n",
      "Epoch 48/50: 100%|███████████████████████████████████████████████████████████| 1425/1425 [00:02<00:00, 636.72batches/s]\n",
      "Epoch 49/50: 100%|███████████████████████████████████████████████████████████| 1425/1425 [00:02<00:00, 590.97batches/s]\n",
      "Epoch 50/50: 100%|███████████████████████████████████████████████████████████| 1425/1425 [00:02<00:00, 643.52batches/s]\n"
     ]
    },
    {
     "name": "stdout",
     "output_type": "stream",
     "text": [
      "Nice Job! Test Accuracy is 0.883899986743927\n"
     ]
    }
   ],
   "source": [
    "# TODO: Set the epochs, batch_size, and learning_rate with the best parameters from problem 4\n",
    "epochs = 50\n",
    "batch_size = 100 \n",
    "learning_rate = 0.2\n",
    "\n",
    "\n",
    "\n",
    "### DON'T MODIFY ANYTHING BELOW ###\n",
    "# The accuracy measured against the test set\n",
    "test_accuracy = 0.0\n",
    "\n",
    "with tf.Session() as session:\n",
    "    \n",
    "    session.run(init)\n",
    "    batch_count = int(math.ceil(len(train_features)/batch_size))\n",
    "\n",
    "    for epoch_i in range(epochs):\n",
    "        \n",
    "        # Progress bar\n",
    "        batches_pbar = tqdm(range(batch_count), desc='Epoch {:>2}/{}'.format(epoch_i+1, epochs), unit='batches')\n",
    "        \n",
    "        # The training cycle\n",
    "        for batch_i in batches_pbar:\n",
    "            # Get a batch of training features and labels\n",
    "            batch_start = batch_i*batch_size\n",
    "            batch_features = train_features[batch_start:batch_start + batch_size]\n",
    "            batch_labels = train_labels[batch_start:batch_start + batch_size]\n",
    "\n",
    "            # Run optimizer\n",
    "            _ = session.run(optimizer, feed_dict={features: batch_features, labels: batch_labels, keep_prob: 1.0})\n",
    "\n",
    "        # Check accuracy against Test data\n",
    "        test_accuracy = session.run(accuracy, feed_dict={features: test_features, \n",
    "                                                                     labels: test_labels, keep_prob: 1.0})\n",
    "\n",
    "print('Nice Job! Test Accuracy is {}'.format(test_accuracy))"
   ]
  }
 ],
 "metadata": {
  "anaconda-cloud": {},
  "kernelspec": {
   "display_name": "Python 3",
   "language": "python",
   "name": "python3"
  },
  "language_info": {
   "codemirror_mode": {
    "name": "ipython",
    "version": 3
   },
   "file_extension": ".py",
   "mimetype": "text/x-python",
   "name": "python",
   "nbconvert_exporter": "python",
   "pygments_lexer": "ipython3",
   "version": "3.5.2"
  },
  "widgets": {
   "state": {},
   "version": "1.1.2"
  }
 },
 "nbformat": 4,
 "nbformat_minor": 1
}
